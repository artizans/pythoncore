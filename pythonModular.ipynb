{
  "nbformat": 4,
  "nbformat_minor": 0,
  "metadata": {
    "colab": {
      "name": "pythonModular.ipynb",
      "provenance": [],
      "collapsed_sections": [],
      "toc_visible": true,
      "authorship_tag": "ABX9TyNa4rUypszEsH78DyNy7Vq1",
      "include_colab_link": true
    },
    "kernelspec": {
      "name": "python3",
      "display_name": "Python 3"
    },
    "language_info": {
      "name": "python"
    }
  },
  "cells": [
    {
      "cell_type": "markdown",
      "metadata": {
        "id": "view-in-github",
        "colab_type": "text"
      },
      "source": [
        "<a href=\"https://colab.research.google.com/github/artizans/pythoncore/blob/main/pythonModular.ipynb\" target=\"_parent\"><img src=\"https://colab.research.google.com/assets/colab-badge.svg\" alt=\"Open In Colab\"/></a>"
      ]
    },
    {
      "cell_type": "markdown",
      "source": [
        "### 简单模块化\n",
        "1. 多文件：将函数、类、常量等拆分到不同的文件，放到同一文件夹中\n",
        "  * 引用：from your_file import function_name, class_name\n",
        "2. 多文件夹：将函数、类、常量等拆分到不同的文件，放到不同文件夹中\n",
        "  * 引用\n",
        "    * 获得文件所在的文件夹：sys.path.append('..'):将当前所在位置向上提一级\n",
        "    * from your_dir.your_file import fucntion_name,class_name\n",
        "  * import同一个模块只会被执行一次，防止重复导入模块出现问题\n",
        "\n",
        "\n",
        "### 项目模块化\n",
        "\n",
        "1. 文件路径(项目中建议使用绝对路径)\n",
        "  * 相对路径:任意两个文件都存在一条通路\n",
        "    * `..`：表示上一层目录\n",
        "  * 绝对路径：从根目录开始到子叶节点的路径\n",
        "    * Linux每个文件都有绝对路径，以`/`(根目录)开头到叶子节点(/home/ubuntu/Desktop/my_project/test.py)\n",
        "2. 一个Python文件运行时，都有一个运行时位置，但可以改变\n",
        "  * sys.path.append(\"..\")：改变当前Python解释器位置\n",
        "3. 模块化思想：项目目录为最基本的目录，所有自定义模块调用，都通过根目录一层层向下索引的方式来`import`.\n",
        "\n",
        "### import相关问题\n",
        "\n",
        "1. import导入的模块寻找路径：\n",
        " ```\n",
        "  import sys  \n",
        "  print(sys.path)\n",
        "  ########## 输出 ##########\n",
        "  ['', '/usr/lib/python36.zip', '/usr/lib/python3.6', '/usr/lib/python3.6/lib-dynload', '/usr/local/lib/python3.6/dist-packages', '/usr/lib/python3/dist-packages']\n",
        "\n",
        " ```\n",
        "2. 修改import导入的模块寻找路径\n",
        "  * 硬修改:在入口文件处或配置文件中\n",
        "    * sys.path[0] = '/home/ubuntu/workspace/your_projects'\n",
        "  * 修改PYTHONHOME:在虚拟环境中，修改activate文件\n",
        "    * `export PYTHONPATH=\"/home/ubuntu/workspace/your_projects\"`\n",
        "3. mport在导入文件时，会自动执行暴露在外面的代码\n",
        "4. 避开import时执行：若想将文件封装成模块，又想在模块内执行\n",
        "  * 模块内最后加`if __name__ == '__main__'`，并将要执行代码放入其中\n",
        "  * import语句会将`__name__`赋予该模块的名字\n",
        "\n",
        "### 思考题\n",
        "1. `from module_name import * 和 import module_name`的区别\n",
        " * `from module_name import *`将目录下的文件的所有模块都导入，且都有各自的前缀。类似拷贝一个目录下所有文件。\n",
        " * `import module_name`导入一个前缀，所有模块通过前缀访问。类似拷贝整个目录。\n",
        "\n",
        "\n",
        "\n"
      ],
      "metadata": {
        "id": "g87DQJGclejm"
      }
    },
    {
      "cell_type": "code",
      "execution_count": null,
      "metadata": {
        "id": "No05u5CSlRHy"
      },
      "outputs": [],
      "source": [
        "# utils.py\n",
        "# \n",
        "def get_sum(a, b):\n",
        "  return a + b"
      ]
    },
    {
      "cell_type": "code",
      "source": [
        "# class_utils.py\n",
        "class Encoder(object):\n",
        "  def encode(self, s):\n",
        "    return s[::-1]\n",
        "\n",
        "class Decoder(object):\n",
        "  def decode(self, s):\n",
        "    return ''.join(reversed(list(s)))"
      ],
      "metadata": {
        "id": "_0ysDJY0mE1b"
      },
      "execution_count": null,
      "outputs": []
    },
    {
      "cell_type": "code",
      "source": [
        "# main.py\n",
        "\n",
        "from utils import get_sum\n",
        "from class_utils import *\n",
        "\n",
        "print(get_sum(1, 2))\n",
        "\n",
        "encoder = Encoder()\n",
        "decoder = Decoder()\n",
        "\n",
        "print(encoder.encode('abcde'))\n",
        "print(decoder.decode('edcba'))\n",
        "\n",
        "########## 输出 ##########\n",
        "# 3\n",
        "# edcba\n",
        "# abcde"
      ],
      "metadata": {
        "id": "c42e9Ik4mc2-"
      },
      "execution_count": null,
      "outputs": []
    },
    {
      "cell_type": "code",
      "source": [
        "# 避开import执行\n",
        "# utils.py\n",
        "def get_sum(a, b):\n",
        "  return a + b\n",
        "print('testing')\n",
        "print('{} + {} = {}'.format(1, 2, get_sum(1, 2)))\n",
        "\n",
        "\n",
        "# utils_with_main.py\n",
        "def get_sum(a, b):\n",
        "    return a + b\n",
        "# 可单独调试模块，且在import导入此模块时避免执行\n",
        "if __name__ == '__main__':\n",
        "  print('testing')\n",
        "  print('{} + {} = {}'.format(1, 2, get_sum(1, 2)))\n",
        "    \n",
        "# main.py\n",
        "from utils import get_sum\n",
        "print('get_sum: ', get_sum(1, 2))\n",
        "\n",
        "########## 输出 ##########\n",
        "# import导入模块时，会自动执行暴露在模块外的代码\n",
        "# testing\n",
        "# 1 + 2 = 3\n",
        "# get_sum: 3\n",
        "\n",
        "# main_2.py\n",
        "from utils_with_main import get_sum\n",
        "\n",
        "print('get_sum: ', get_sum(1, 2))\n",
        "\n",
        "########## 输出 ##########\n",
        "# import导入模块时，会将`__name__`改变为模块名\n",
        "# 此时 if __name__ == '__main__':为False\n",
        "# get_sum_2: 3"
      ],
      "metadata": {
        "id": "b-3VLZWPzDAj"
      },
      "execution_count": null,
      "outputs": []
    }
  ]
}