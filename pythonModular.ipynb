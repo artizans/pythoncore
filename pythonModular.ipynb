{
  "nbformat": 4,
  "nbformat_minor": 0,
  "metadata": {
    "colab": {
      "name": "pythonModular.ipynb",
      "provenance": [],
      "collapsed_sections": [],
      "toc_visible": true,
      "mount_file_id": "1JfeIh60_2SDO9pVaTtyIolUE-hR6CyLN",
      "authorship_tag": "ABX9TyPLDTAsH5/5egRf6hK2jEAd",
      "include_colab_link": true
    },
    "kernelspec": {
      "name": "python3",
      "display_name": "Python 3"
    },
    "language_info": {
      "name": "python"
    }
  },
  "cells": [
    {
      "cell_type": "markdown",
      "metadata": {
        "id": "view-in-github",
        "colab_type": "text"
      },
      "source": [
        "<a href=\"https://colab.research.google.com/github/artizans/pythoncore/blob/main/pythonModular.ipynb\" target=\"_parent\"><img src=\"https://colab.research.google.com/assets/colab-badge.svg\" alt=\"Open In Colab\"/></a>"
      ]
    },
    {
      "cell_type": "markdown",
      "source": [
        "### 简单模块化\n",
        "1. 多文件：将函数、类、常量等拆分到不同的文件，放到同一文件夹中\n",
        "  * 引用：from your_file import function_name, class_name\n",
        "2. 多文件夹：将函数、类、常量等拆分到不同的文件，放到不同文件夹中\n",
        "  * 引用\n",
        "    * 获得文件所在的文件夹：sys.path.append('..'):将当前所在位置向上提一级\n",
        "    * from your_dir.your_file import fucntion_name,class_name\n",
        "  * import同一个模块只会被执行一次，防止重复导入模块出现问题\n",
        "\n",
        "\n",
        "### 项目模块化\n",
        "\n",
        "1. 文件路径(项目中建议使用绝对路径)\n",
        "  * 相对路径:任意两个文件都存在一条通路\n",
        "    * `..`：表示上一层目录\n",
        "  * 绝对路径：从根目录开始到子叶节点的路径\n",
        "    * Linux每个文件都有绝对路径，以`/`(根目录)开头到叶子节点(/home/ubuntu/Desktop/my_project/test.py)\n",
        "2. 一个Python文件运行时，都有一个运行时位置，但可以改变\n",
        "  * sys.path.append(\"..\")：改变当前Python解释器位置\n",
        "3. 模块化思想：项目目录为最基本的目录，所有自定义模块调用，都通过根目录一层层向下索引的方式来`import`.\n",
        "\n",
        "### import相关问题\n",
        "\n",
        "1. import导入的模块寻找路径：\n",
        " ```\n",
        "  import sys  \n",
        "  print(sys.path)\n",
        "  ########## 输出 ##########\n",
        "  ['', '/usr/lib/python36.zip', '/usr/lib/python3.6', '/usr/lib/python3.6/lib-dynload', '/usr/local/lib/python3.6/dist-packages', '/usr/lib/python3/dist-packages']\n",
        "\n",
        " ```\n",
        "2. 修改import导入的模块寻找路径\n",
        "  * 硬修改:在入口文件处或配置文件中\n",
        "    * sys.path[0] = '/home/ubuntu/workspace/your_projects'\n",
        "  * 修改PYTHONHOME:在虚拟环境中，修改activate文件\n",
        "    * `export PYTHONPATH=\"/home/ubuntu/workspace/your_projects\"`\n",
        "3. mport在导入文件时，会自动执行暴露在外面的代码\n",
        "4. 避开import时执行：若想将文件封装成模块，又想在模块内执行\n",
        "  * 模块内最后加`if __name__ == '__main__'`，并将要执行代码放入其中\n",
        "  * import语句会将`__name__`赋予该模块的名字\n",
        "\n",
        "### 思考题\n",
        "1. `from module_name import * 和 import module_name`的区别\n",
        " * `from module_name import *`将目录下的文件的所有模块都导入，且都有各自的前缀。类似拷贝一个目录下所有文件。\n",
        " * `import module_name`导入一个前缀，所有模块通过前缀访问。类似拷贝整个目录。\n",
        "\n",
        "\n",
        "\n"
      ],
      "metadata": {
        "id": "g87DQJGclejm"
      }
    },
    {
      "cell_type": "code",
      "execution_count": 1,
      "metadata": {
        "id": "No05u5CSlRHy"
      },
      "outputs": [],
      "source": [
        "# utils.py\n",
        "# \n",
        "def get_sum(a, b):\n",
        "  return a + b"
      ]
    },
    {
      "cell_type": "code",
      "source": [
        "# class_utils.py\n",
        "class Encoder(object):\n",
        "  def encode(self, s):\n",
        "    return s[::-1]\n",
        "\n",
        "class Decoder(object):\n",
        "  def decode(self, s):\n",
        "    return ''.join(reversed(list(s)))"
      ],
      "metadata": {
        "id": "_0ysDJY0mE1b"
      },
      "execution_count": 2,
      "outputs": []
    },
    {
      "cell_type": "code",
      "source": [
        "# main.py\n",
        "\n",
        "from utils import get_sum\n",
        "from class_utils import *\n",
        "\n",
        "print(get_sum(1, 2))\n",
        "\n",
        "encoder = Encoder()\n",
        "decoder = Decoder()\n",
        "\n",
        "print(encoder.encode('abcde'))\n",
        "print(decoder.decode('edcba'))\n",
        "\n",
        "########## 输出 ##########\n",
        "# 3\n",
        "# edcba\n",
        "# abcde"
      ],
      "metadata": {
        "id": "c42e9Ik4mc2-"
      },
      "execution_count": null,
      "outputs": []
    },
    {
      "cell_type": "code",
      "source": [
        "# 避开import执行\n",
        "# utils.py\n",
        "def get_sum(a, b):\n",
        "  return a + b\n",
        "print('testing')\n",
        "print('{} + {} = {}'.format(1, 2, get_sum(1, 2)))\n",
        "\n",
        "\n",
        "# utils_with_main.py\n",
        "def get_sum(a, b):\n",
        "    return a + b\n",
        "# 可单独调试模块，且在import导入此模块时避免执行\n",
        "if __name__ == '__main__':\n",
        "  print('testing')\n",
        "  print('{} + {} = {}'.format(1, 2, get_sum(1, 2)))\n",
        "    \n",
        "# main.py\n",
        "from utils import get_sum\n",
        "print('get_sum: ', get_sum(1, 2))\n",
        "\n",
        "########## 输出 ##########\n",
        "# import导入模块时，会自动执行暴露在模块外的代码\n",
        "# testing\n",
        "# 1 + 2 = 3\n",
        "# get_sum: 3\n",
        "\n",
        "# main_2.py\n",
        "from utils_with_main import get_sum\n",
        "\n",
        "print('get_sum: ', get_sum(1, 2))\n",
        "\n",
        "########## 输出 ##########\n",
        "# import导入模块时，会将`__name__`改变为模块名\n",
        "# 此时 if __name__ == '__main__':为False\n",
        "# get_sum_2: 3"
      ],
      "metadata": {
        "id": "b-3VLZWPzDAj"
      },
      "execution_count": null,
      "outputs": []
    },
    {
      "cell_type": "markdown",
      "source": [
        "### 列表、元组、字典、集合\n",
        "\n",
        "| 类型 | 说明 | 创建 | 内置函数 | 操作 | 存储差异 |\n",
        "| ---- | ---- | ---- | ---- | ---- | ---- |\n",
        "| 列表(list) |动态，任意类型、可重复的有序集合| []、list() | count()/index()/sort()/reverse() | 负数索引、切片操作、任意嵌套 |动态，除开元素空间外，额外存储指针及分配额外空间用于动态增长|\n",
        "| 元组(tuple) |静态，任意类型、可重复的有序集合| (,)、tuple() | reversed()/sorted() | 负数索引、切片操作、任意嵌套 |静态，大小长度固定不可变|\n",
        "| 字典(dict) |任意类型、有序集合| []、list | count | 以 |差异|\n",
        "| 集合(set) |任意类型、有序集合| []、list | count | 以 |差异|\n",
        "\n",
        "负数索引:可迭代对象支持负数索引,-1表示最后一个元素,-2为倒数第二个,依次类推\n",
        "\n",
        "切片操作:可迭代对象进行选取操作\n",
        "  * iterable[start:end[:step]]\n",
        "    * start:起始索引值,可省略(从头开始),可为负数\n",
        "    * end:终止索引值(end-1),可省略(末尾结束),可为负数\n",
        "    * step:步长,可选参数,隔step取一个值\n",
        "      * 大于0,切片从左往右\n",
        "      * 小于0,切片从右往左 \n",
        "  * 操作\n",
        "    * 遍历可迭代对象的部分\n",
        "    * 复制可迭代对象\n",
        "    * 切片倒转:[::-1]\n",
        "over-allocating机制:为提高列表的增加、删除效率，会额外分配给列表空间。\n",
        "\n",
        "\n",
        "\n",
        "\n",
        "资源缓存(resource caching):静态数据占用空间不大时，会被后台缓存。\n",
        "性能对比\n",
        "  * 元组比列表轻量级，性能优于列表\n",
        "    * 资源缓存会提高元组初始化效率\n",
        "    * 索引操作两者差不多\n",
        "    * 增删改操作列表更优\n",
        "  * 使用场景\n",
        "    * 元组用于不可变场景\n",
        "    * 列表用于可变场景\n",
        "思考题:何种方式创建列表更优\n",
        "```\n",
        "    # 创建空列表\n",
        "    # option A\n",
        "    empty_list = list()\n",
        "    # option B\n",
        "    empty_list = []\n",
        "```\n",
        "  \n",
        "\n",
        "### 内置函数\n",
        "  \n",
        "\n",
        "\n",
        "```\n",
        "# 列表、元组内置函数\n",
        "# count(item):统计列表/元组中item出现的次数\n",
        "# index(item):返回列表/元组中item第一次出现的位置\n",
        "# list.reverse():原地倒转列表\n",
        "# list.sort():原地排序列表\n",
        "# reversed(tup):原地倒转元组，返回一个迭代器(),可通过list()将其转为列表\n",
        "# sorted(tup):原地排序元组，返回排序好的新列表\n",
        "\n",
        "\n",
        "l = [3, 2, 3, 7, 8, 1]\n",
        "l.count(3) \n",
        "##### 输出 #####\n",
        "# 2\n",
        "l.index(7)\n",
        "##### 输出 #####\n",
        "# 3\n",
        "\n",
        "l.reverse()\n",
        "l\n",
        "##### 输出 #####\n",
        "# [1, 8, 7, 3, 2, 3]\n",
        "l.sort()\n",
        "l\n",
        "##### 输出 #####\n",
        "# [1, 2, 3, 3, 7, 8]\n",
        "\n",
        "tup = (3, 2, 3, 7, 8, 1)\n",
        "tup.count(3)\n",
        "##### 输出 #####\n",
        "# 2\n",
        "tup.index(7)\n",
        "##### 输出 #####\n",
        "# 3\n",
        "list(reversed(tup))\n",
        "##### 输出 #####\n",
        "# [1, 8, 7, 3, 2, 3]\n",
        "sorted(tup)\n",
        "##### 输出 #####\n",
        "# [1, 2, 3, 3, 7, 8]\n",
        "```\n",
        "\n",
        "\n",
        "\n",
        "动态(mutable):长度大小不固定，可随意增删改元素\n",
        "  * 增加元素：append()\n",
        "  * 删除元素：\n",
        "\n",
        "静态(immutable):长度大小固定，无法增删改元素\n",
        "  * 增删改元组元素: 开辟新的内存，创建新的元组，将旧元组元素拷贝到新元组\n",
        "\n",
        "\n",
        "### 列表\n",
        "1. 增加元素\n",
        "  * 列表末尾添加: append(value)\n",
        "  * 插入元素: insert(index, value)\n",
        "    * index: 要插入位置的索引值\n",
        "2. 删除元素\n",
        "  * del语句删除: `del list_name[index]`\n",
        "  * pop()方法删除: `list_name.pop([index])`\n",
        "    * index: 可选参数，删除元素在列表中的索引值\n",
        "  * 区别: del直接删除，pop()返回被删除的元素值\n",
        "  * remove()删除: `remove(value)`\n",
        "    * value: 元素的值\n",
        "    * 只删除第一个指定的值，如果存在多个相同值，需要循环删除\n",
        "3. 组织列表\n",
        "  * 永久排序: list_name.sort([reverse=True])\n",
        "    * reverse:可选参数，为True时，降序排列\n",
        "  * 临时排序: sorted(list_name,[reverse=True]),不改变原列表\n",
        "  * 倒转列表: list_name.reverse()\n",
        "  * 列表长度: len(list_name)\n",
        "4. 列表操作\n",
        "  * 对象遍历\n",
        "  ```\n",
        "    for val in val_list:\n",
        "      print(val)\n",
        "  ```\n",
        "  * 索引遍历\n",
        "  ```\n",
        "    for index in range(len(val_list):\n",
        "      print(val_list[index])\n",
        "  ```\n",
        "5. 常见函数\n",
        "  * range([start,]end[,step]):生成有序数列\n",
        "    * start:如果为0可不填，其他必填\n",
        "    * end:结束位置(end-1)\n",
        "    * setp:步长\n",
        "  * min():返回列表中最小值\n",
        "  * max():返回列表中最大值\n",
        "  * sum():列表元素求和\n",
        "  \n",
        "6. 操作符\n",
        "  * 乘方: `value ** n`(value的n次方)\n",
        "\n",
        "8. 列表解析:for循环和创建新元素代码合成一行\n",
        "  * 格式: expression for value in iterable\n",
        "    ```\n",
        "    squares = [value**2 for value in range(1,11)]\n",
        "    ```\n",
        "\n",
        "\n",
        "\n",
        "\n",
        "\n",
        "\n",
        "\n",
        "\n",
        "\n",
        "\n"
      ],
      "metadata": {
        "id": "vIsO1jl7eXv_"
      }
    },
    {
      "cell_type": "code",
      "source": [
        "d = {'b':1, 'a':2, 'c':10}\n",
        "d_sorted_by_key = sorted(d.items(), key=lambda x: x[0])\n",
        "d_sorted_by_value = sorted(d.items(), key=lambda x: x[1])\n",
        "print('d_sorted_by_key: {}'.format(d_sorted_by_key))\n",
        "print('d_sorted_by_value: {}'.format(d_sorted_by_value))"
      ],
      "metadata": {
        "colab": {
          "base_uri": "https://localhost:8080/"
        },
        "id": "o8-P24ozvkSq",
        "outputId": "e3bd158e-c3f1-49e6-c4b9-bf9a19e3158b"
      },
      "execution_count": 1,
      "outputs": [
        {
          "output_type": "stream",
          "name": "stdout",
          "text": [
            "d_sorted_by_key: [('a', 2), ('b', 1), ('c', 10)]\n",
            "d_sorted_by_value: [('b', 1), ('a', 2), ('c', 10)]\n"
          ]
        }
      ]
    },
    {
      "cell_type": "code",
      "source": [
        "s = {4, 3, 2, 1}\n",
        "s_sorted = sorted(s)\n",
        "print('s s_sorted:{}'.format(s_sorted))\n",
        "print('s: {}'.format(s))"
      ],
      "metadata": {
        "colab": {
          "base_uri": "https://localhost:8080/"
        },
        "id": "ojJJBINIwnZh",
        "outputId": "dc7e90ff-7af3-4ad0-b519-433ba5fa2190"
      },
      "execution_count": 2,
      "outputs": [
        {
          "output_type": "stream",
          "name": "stdout",
          "text": [
            "s s_sorted:[1, 2, 3, 4]\n",
            "s: {1, 2, 3, 4}\n"
          ]
        }
      ]
    },
    {
      "cell_type": "code",
      "source": [
        "import time \n",
        "id = [x for x in range(0, 100000)]\n",
        "price = [x for x in range(200000, 300000)]\n",
        "products = list(zip(id, price))\n",
        "\n",
        "# \n",
        "def find_unique_price_using_list(products)->int:\n",
        "  unique_price = []\n",
        "  for _, price in products:\n",
        "    if price not in unique_price:\n",
        "      unique_price.append(price)\n",
        "  print('find_unique_price_using_list size:{}'.format(len(unique_price)))\n",
        "  return len(unique_price)\n",
        "  \n",
        "\n",
        "# 计算列表版本的时间\n",
        "start_using_list = time.perf_counter()\n",
        "find_unique_price_using_list(products)\n",
        "end_using_list = time.perf_counter()\n",
        "print('time elapse using list: {}'.format(end_using_list - start_using_list))\n",
        "\n",
        "def find_unique_price_using_set(products):\n",
        "  unique_price = set()\n",
        "  for _, price in products:\n",
        "    unique_price.add(price)\n",
        "  print('find_unique_price_using_list size:{}'.format(len(unique_price)))\n",
        "  return len(unique_price)\n",
        "# 计算集合版本的时间\n",
        "start_using_set = time.perf_counter()\n",
        "find_unique_price_using_set(products)\n",
        "end_using_set = time.perf_counter()\n",
        "print('time elapse using set: {}'.format(end_using_set - start_using_set))\n",
        "##### output #####\n",
        "find_unique_price_using_list size:100000\n",
        "time elapse using list: 75.80880516099933\n",
        "find_unique_price_using_list size:100000\n",
        "time elapse using set: 0.015269129999069264"
      ],
      "metadata": {
        "colab": {
          "base_uri": "https://localhost:8080/"
        },
        "id": "EjAWPrp_EFGS",
        "outputId": "177dac06-3343-464f-8498-fc3e6ae6d786"
      },
      "execution_count": 6,
      "outputs": [
        {
          "output_type": "stream",
          "name": "stdout",
          "text": [
            "find_unique_price_using_list size:100000\n",
            "time elapse using list: 75.80880516099933\n",
            "find_unique_price_using_list size:100000\n",
            "time elapse using set: 0.015269129999069264\n"
          ]
        }
      ]
    },
    {
      "cell_type": "code",
      "source": [
        "import time\n",
        "def computer_execut_time(func, count, func_name):\n",
        "  start_time = time.perf_counter()\n",
        "  func(count)\n",
        "  end_time = time.perf_counter()\n",
        "  print('{} {} time elapse: {}'.format(count, func_name, end_time - start_time))\n",
        "\n",
        "def str_add(count):\n",
        "  s = ''\n",
        "  for n in range(count):\n",
        "    s += str(n)\n",
        "\n",
        "def str_join(count):\n",
        "  l = []\n",
        "  for n in range(count):\n",
        "    l.append(str(n))\n",
        "  s = ''.join(l)\n",
        "computer_execut_time(str_add,1000,'+= str')\n",
        "computer_execut_time(str_join,1000,'join str')"
      ],
      "metadata": {
        "colab": {
          "base_uri": "https://localhost:8080/"
        },
        "id": "vd9K2Z9tyREv",
        "outputId": "7a75310f-121b-4cf3-ee3e-ad9b7e057d4a"
      },
      "execution_count": 10,
      "outputs": [
        {
          "output_type": "stream",
          "name": "stdout",
          "text": [
            "1000 += str time elapse: 0.0004790629999433804\n",
            "1000 join str time elapse: 0.000288160999957654\n"
          ]
        }
      ]
    },
    {
      "cell_type": "code",
      "source": [
        "my_food = ['pizza', 'falafel', 'carrot cake']\n",
        "# 深拷贝:新开一个块内存，存储变量值\n",
        "friend_food = my_food[:]\n",
        "# 浅拷贝:保存my_food的引用(内存地址)\n",
        "other_friend_food = my_food\n",
        "print('my_food list:{}'.format(my_food))\n",
        "print('friend_food list:{}'.format(friend_food))\n",
        "print('other_friend_food list:{}'.format(other_friend_food))\n",
        "##### 输出 #####\n",
        "# my_food list:['pizza', 'falafel', 'carrot cake']\n",
        "# friend_food list:['pizza', 'falafel', 'carrot cake']\n",
        "# other_friend_food list:['pizza', 'falafel', 'carrot cake']\n",
        "\n",
        "# 比较值是否相等\n",
        "print('my_food==friend_food==other_friend_food:{} '.format(my_food==friend_food==other_friend_food))\n",
        "##### 输出 #####\n",
        "# my_food==friend_food==other_friend_food:True \n",
        "\n",
        "# 比较对象是否相等，即是否为同一内存地址\n",
        "# 深拷贝\n",
        "print('my_food is friend_food:{}'.format(my_food is friend_food))\n",
        "# 浅拷贝\n",
        "print('my_food is other_friend_food:{}'.format(my_food is other_friend_food))\n",
        "# 打印各自内存地址\n",
        "print('my_food is id:{}'.format(id(my_food)))\n",
        "print('friend_food is id:{}'.format(id(friend_food)))\n",
        "print('other_friend_food is id:{}'.format(id(other_friend_food)))\n",
        "\n",
        "##### 输出 #####\n",
        "# my_food is friend_food:False\n",
        "# my_food is other_friend_food:True\n",
        "# my_food is id:140359247984752\n",
        "# friend_food is id:140359248284880\n",
        "# other_friend_food is id:140359247984752\n"
      ],
      "metadata": {
        "colab": {
          "base_uri": "https://localhost:8080/"
        },
        "id": "i9oojINSjenP",
        "outputId": "079f388c-1366-4919-a924-c90743aee1e9"
      },
      "execution_count": 10,
      "outputs": [
        {
          "output_type": "stream",
          "name": "stdout",
          "text": [
            "my_food list:['pizza', 'falafel', 'carrot cake']\n",
            "friend_food list:['pizza', 'falafel', 'carrot cake']\n",
            "other_friend_food list:['pizza', 'falafel', 'carrot cake']\n",
            "my_food==friend_food==other_friend_food:True \n",
            "my_food is friend_food:False\n",
            "my_food is other_friend_food:True\n",
            "my_food is id:140359247984752\n",
            "friend_food is id:140359248284880\n",
            "other_friend_food is id:140359247984752\n"
          ]
        }
      ]
    },
    {
      "cell_type": "code",
      "source": [
        "# 元组是静态的(不可变)\n",
        "demensions = (200, 500)\n",
        "print('original dimensions:')\n",
        "for demension in demensions:\n",
        "  print(demension)\n",
        "print('current demensions id:{}'.format(id(demension)))\n",
        "# 元组不可通过索引对其元素进行删除或修改,Python会报错\n",
        "# print('Modified dimensions by index:')\n",
        "# TypeError: 'tuple' object does not support item assignment\n",
        "# demensions[0] = 400\n",
        "# 修改元组值只能通过重新赋值给变量，该变量会指向新的引用(内存地址)\n",
        "print('\\nModified dimensions:')\n",
        "demensions = (400, 100)\n",
        "for demension in demensions:\n",
        "  print(demension)\n",
        "print('Modified demensions id:{}'.format(id(demension)))\n",
        "##### 输出 #####\n",
        "# original dimensions:\n",
        "# 200\n",
        "# 500\n",
        "# current demensions id:140359247859984\n",
        "\n",
        "# Modified dimensions:\n",
        "# 400\n",
        "# 100\n",
        "# Modified demensions id:94158712743520\n"
      ],
      "metadata": {
        "colab": {
          "base_uri": "https://localhost:8080/"
        },
        "id": "YD9kbkecl-cm",
        "outputId": "b648bc2b-def2-47b2-fa37-84f2cfa35318"
      },
      "execution_count": 7,
      "outputs": [
        {
          "output_type": "stream",
          "name": "stdout",
          "text": [
            "original dimensions:\n",
            "200\n",
            "500\n",
            "current demensions id:140359247859984\n",
            "\n",
            "Modified dimensions:\n",
            "400\n",
            "100\n",
            "Modified demensions id:94158712743520\n"
          ]
        }
      ]
    }
  ]
}