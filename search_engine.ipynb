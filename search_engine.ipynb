{
  "nbformat": 4,
  "nbformat_minor": 0,
  "metadata": {
    "colab": {
      "name": "search_engine.ipynb",
      "provenance": [],
      "collapsed_sections": [],
      "mount_file_id": "14p3Piiok2ct2SbD1QQkqFeZpUd0UgHLO",
      "authorship_tag": "ABX9TyPOVM9er1Ee3ZXGV8dv1QSt",
      "include_colab_link": true
    },
    "kernelspec": {
      "name": "python3",
      "display_name": "Python 3"
    },
    "language_info": {
      "name": "python"
    }
  },
  "cells": [
    {
      "cell_type": "markdown",
      "metadata": {
        "id": "view-in-github",
        "colab_type": "text"
      },
      "source": [
        "<a href=\"https://colab.research.google.com/github/artizans/pythoncore/blob/main/search_engine.ipynb\" target=\"_parent\"><img src=\"https://colab.research.google.com/assets/colab-badge.svg\" alt=\"Open In Colab\"/></a>"
      ]
    },
    {
      "cell_type": "code",
      "source": [
        "def main(search_engine):\n",
        "  for file_name in ['1.txt','2.txt','3.txt','4.txt','5.txt']:\n",
        "    file_path = '/content/search_engine/source/' + file_name\n",
        "    search_engine.add_corpus(file_path)\n",
        "  \n",
        "  while True:\n",
        "    query = input()\n",
        "    results = search_engine.search(query)\n",
        "    print('found {} result(s):'.format(len(results)))\n",
        "    for result in results:\n",
        "      print(result)\n",
        "  "
      ],
      "metadata": {
        "id": "_Lg6FCdgcXVK"
      },
      "execution_count": null,
      "outputs": []
    },
    {
      "cell_type": "code",
      "source": [
        "class SearchEngineBase(object):\n",
        "  def __init__(self) -> None:\n",
        "      # super().__init__()\n",
        "      print('SearchEngineBase is init...')\n",
        "      pass\n",
        "  def add_corpus(self,file_path):\n",
        "    try:\n",
        "      with open(file_path,'r') as fin:\n",
        "        text = fin.read()\n",
        "      self.process_corpus(file_path,text)\n",
        "    except FileNotFoundError as e:\n",
        "      print(e)\n",
        "  \n",
        "  def process_corpus(self,id,text):\n",
        "    raise Exception('process_corpus is not implemented')\n",
        "  \n",
        "  def search(self,query):\n",
        "    raise Exception('search is not implemented')\n",
        "  \n",
        "  "
      ],
      "metadata": {
        "id": "pfeEB04rl3ba"
      },
      "execution_count": null,
      "outputs": []
    },
    {
      "cell_type": "code",
      "source": [
        "class SimpleEngine(SearchEngineBase):\n",
        "  def __init__(self) -> None:\n",
        "      super(SimpleEngine, self).__init__()\n",
        "      self.__id_to_texts = {}\n",
        "  def process_corpus(self, id, text):\n",
        "      self.__id_to_texts[id] = text\n",
        "  def search(self, query):\n",
        "    results = []\n",
        "    for id, text in self.__id_to_texts.items():\n",
        "      if query in text:\n",
        "        results.append(id)\n",
        "    return results\n"
      ],
      "metadata": {
        "id": "IlIayBdhoxnA"
      },
      "execution_count": null,
      "outputs": []
    },
    {
      "cell_type": "markdown",
      "source": [
        "齐夫定律：一个单词出现的频率与其在频率表里的排名成反比，呈幂律分布。"
      ],
      "metadata": {
        "id": "tSOjpECifxbN"
      }
    },
    {
      "cell_type": "code",
      "source": [
        "import re\n",
        "\n",
        "class BOWEngine(SearchEngineBase):\n",
        "  def __init__(self) -> None:\n",
        "    super(BOWEngine, self).__init__()\n",
        "    self.__id_to_words = {}\n",
        "  \n",
        "  def process_corpus(self, id, text):\n",
        "    self.__id_to_words[id] = self.parse_text_to_words(text)\n",
        "\n",
        "  def search(self, query):\n",
        "    query_words = self.parse_text_to_words(query)\n",
        "    results = []\n",
        "    for id, words in self.__id_to_words.items():\n",
        "      if self.query_match(query_words, words):\n",
        "        results.append(id)\n",
        "    return results\n",
        "  \n",
        "  @staticmethod\n",
        "  def query_match(query_words, words):\n",
        "    for query_word in query_words:\n",
        "      if query_word not in words:\n",
        "        return False\n",
        "    return True\n",
        "  @staticmethod\n",
        "  def parse_text_to_words(text):\n",
        "    # 使用正则表达式去掉标点符号和换行符\n",
        "    text = re.sub(r'[^\\w]', ' ', text)\n",
        "    # 转为小写\n",
        "    text = text.lower()\n",
        "    # 生成所有单词的列表\n",
        "    word_list = text.split(' ')\n",
        "    # 去掉空白单词\n",
        "    word_list = filter(None, word_list)\n",
        "    # 返回单词的 set\n",
        "    return set(word_list)\n"
      ],
      "metadata": {
        "id": "xFl6oMM0tC8u"
      },
      "execution_count": null,
      "outputs": []
    },
    {
      "cell_type": "code",
      "source": [
        "# search_engine = SimpleEngine()\n",
        "search_engine = BOWEngine()\n",
        "main(search_engine)"
      ],
      "metadata": {
        "id": "Ksg30ogRpiqH"
      },
      "execution_count": null,
      "outputs": []
    }
  ]
}